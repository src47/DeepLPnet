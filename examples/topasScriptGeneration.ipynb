{
 "cells": [
  {
   "cell_type": "markdown",
   "metadata": {},
   "source": [
    "# Beamline 2-1 Samples"
   ]
  },
  {
   "cell_type": "code",
   "execution_count": 10,
   "metadata": {},
   "outputs": [],
   "source": [
    "import sys, os\n",
    "sys.path.append(os.path.join('..','src'))\n",
    "\n",
    "from helper_functions import * \n",
    "from helper_functions_topas import * \n",
    " \n",
    "import numpy as np\n",
    "from matplotlib import pyplot as plt\n",
    "import pandas as pd\n",
    "tf.compat.v1.logging.set_verbosity(tf.compat.v1.logging.ERROR)"
   ]
  },
  {
   "cell_type": "markdown",
   "metadata": {},
   "source": [
    "### Load in data from XY files "
   ]
  },
  {
   "cell_type": "markdown",
   "metadata": {},
   "source": [
    "Here X is stored as a dictionary of dataframes corresponding to each XY file. Y comes from a csv which contain the true lattice parameters, crystal system and wavelength"
   ]
  },
  {
   "cell_type": "code",
   "execution_count": 8,
   "metadata": {},
   "outputs": [],
   "source": [
    "X = np.load(\"../data/Xdata.npy\",allow_pickle=True).item()\n",
    "Y = pd.read_csv(\"../data/ssrl_labels.csv\")"
   ]
  },
  {
   "cell_type": "code",
   "execution_count": 9,
   "metadata": {},
   "outputs": [
    {
     "data": {
      "text/html": [
       "<div>\n",
       "<style scoped>\n",
       "    .dataframe tbody tr th:only-of-type {\n",
       "        vertical-align: middle;\n",
       "    }\n",
       "\n",
       "    .dataframe tbody tr th {\n",
       "        vertical-align: top;\n",
       "    }\n",
       "\n",
       "    .dataframe thead th {\n",
       "        text-align: right;\n",
       "    }\n",
       "</style>\n",
       "<table border=\"1\" class=\"dataframe\">\n",
       "  <thead>\n",
       "    <tr style=\"text-align: right;\">\n",
       "      <th></th>\n",
       "      <th>Material</th>\n",
       "      <th>Crystal System</th>\n",
       "      <th>a</th>\n",
       "      <th>b</th>\n",
       "      <th>c</th>\n",
       "      <th>alpha</th>\n",
       "      <th>beta</th>\n",
       "      <th>gamma</th>\n",
       "      <th>Wavelength</th>\n",
       "    </tr>\n",
       "  </thead>\n",
       "  <tbody>\n",
       "    <tr>\n",
       "      <th>0</th>\n",
       "      <td>BL21Robot_0001</td>\n",
       "      <td>cubic</td>\n",
       "      <td>4.156826</td>\n",
       "      <td>4.156826</td>\n",
       "      <td>4.156826</td>\n",
       "      <td>90</td>\n",
       "      <td>90.0</td>\n",
       "      <td>90</td>\n",
       "      <td>0.729568</td>\n",
       "    </tr>\n",
       "    <tr>\n",
       "      <th>1</th>\n",
       "      <td>BL21Robot_0002</td>\n",
       "      <td>trigonal</td>\n",
       "      <td>4.914155</td>\n",
       "      <td>4.914155</td>\n",
       "      <td>5.405698</td>\n",
       "      <td>90</td>\n",
       "      <td>90.0</td>\n",
       "      <td>120</td>\n",
       "      <td>0.729568</td>\n",
       "    </tr>\n",
       "    <tr>\n",
       "      <th>2</th>\n",
       "      <td>BL21Robot_0096</td>\n",
       "      <td>orthorhombic</td>\n",
       "      <td>7.612981</td>\n",
       "      <td>7.787221</td>\n",
       "      <td>10.654601</td>\n",
       "      <td>90</td>\n",
       "      <td>90.0</td>\n",
       "      <td>90</td>\n",
       "      <td>0.729568</td>\n",
       "    </tr>\n",
       "    <tr>\n",
       "      <th>3</th>\n",
       "      <td>BL21Robot_0105</td>\n",
       "      <td>hexagonal</td>\n",
       "      <td>3.248316</td>\n",
       "      <td>3.248316</td>\n",
       "      <td>5.204099</td>\n",
       "      <td>90</td>\n",
       "      <td>90.0</td>\n",
       "      <td>120</td>\n",
       "      <td>0.729568</td>\n",
       "    </tr>\n",
       "    <tr>\n",
       "      <th>4</th>\n",
       "      <td>BL21Robot_0106</td>\n",
       "      <td>cubic</td>\n",
       "      <td>10.114644</td>\n",
       "      <td>10.114644</td>\n",
       "      <td>10.114644</td>\n",
       "      <td>90</td>\n",
       "      <td>90.0</td>\n",
       "      <td>90</td>\n",
       "      <td>0.729568</td>\n",
       "    </tr>\n",
       "  </tbody>\n",
       "</table>\n",
       "</div>"
      ],
      "text/plain": [
       "         Material Crystal System          a          b          c  alpha  \\\n",
       "0  BL21Robot_0001          cubic   4.156826   4.156826   4.156826     90   \n",
       "1  BL21Robot_0002       trigonal   4.914155   4.914155   5.405698     90   \n",
       "2  BL21Robot_0096   orthorhombic   7.612981   7.787221  10.654601     90   \n",
       "3  BL21Robot_0105      hexagonal   3.248316   3.248316   5.204099     90   \n",
       "4  BL21Robot_0106          cubic  10.114644  10.114644  10.114644     90   \n",
       "\n",
       "   beta  gamma  Wavelength  \n",
       "0  90.0     90    0.729568  \n",
       "1  90.0    120    0.729568  \n",
       "2  90.0     90    0.729568  \n",
       "3  90.0    120    0.729568  \n",
       "4  90.0     90    0.729568  "
      ]
     },
     "execution_count": 9,
     "metadata": {},
     "output_type": "execute_result"
    }
   ],
   "source": [
    "Y.head()"
   ]
  },
  {
   "cell_type": "markdown",
   "metadata": {},
   "source": [
    "Example: Generate the Topas input file for the first structure with bound = 0.2. The text, starting at continue_after_convergence, can be copied and pasted into Topas and run. The running directory needs to contain the corresponding file from /data/XYdata. "
   ]
  },
  {
   "cell_type": "code",
   "execution_count": 5,
   "metadata": {},
   "outputs": [
    {
     "name": "stdout",
     "output_type": "stream",
     "text": [
      "Analysing sample: BL21Robot_0001, with crystal system: cubic and wavelength: 0.7295684\n",
      "Predicted LPs:  [4.0949674 4.0949674 4.0949674]\n",
      "True LPs:  [4.156826 4.156826 4.156826 90 90.0 90]\n"
     ]
    }
   ],
   "source": [
    "bound = 0.2\n",
    "row = Y.iloc[0,:]\n",
    "name = row['Material']\n",
    "wavelength = row['Wavelength']\n",
    "crystal_system = row['Crystal System']\n",
    "Xdata = X[name]\n",
    "y_true = np.sort(row[['a','b','c']])\n",
    "    \n",
    "prediction = np.ravel(predictExptDataPipeline(Xdata, y_true, crystal_system=crystal_system, measured_wavelength=wavelength, showPlots=False,printResults=False))\n",
    "print(\"Analysing sample: {}, with crystal system: {} and wavelength: {}\".format(name, crystal_system, wavelength))\n",
    "print(\"Predicted LPs: \", prediction)\n",
    "print(\"True LPs: \", np.array(row[['a','b','c','alpha','beta','gamma']]))\n"
   ]
  },
  {
   "cell_type": "code",
   "execution_count": 6,
   "metadata": {},
   "outputs": [
    {
     "name": "stdout",
     "output_type": "stream",
     "text": [
      "\n",
      "    continue_after_convergence\n",
      "    verbose 0\n",
      "\n",
      "    XY(BL21Robot_0001,0.01)\n",
      "        bkg @ 0 0 0 0 0 0 0\n",
      "        start_X 15\n",
      "        finish_X 30\n",
      "        Zero_Error(@, 0.00074)\n",
      "        lam\n",
      "            ymin_on_ymax  0.0001\n",
      "            la  1 lo 0.7295684 lh 0.002\n",
      "\n",
      "        LP_Factor(90)\n",
      "        x_calculation_step 0.01\n",
      "        gauss_fwhm  @  0.0337972443 min 0.01 max 0.5\n",
      "        lor_fwhm @  0.084548646` min 0.01 max 0.5\n",
      "\n",
      "    hkl_Is\n",
      "\n",
      "        lp_search 1\n",
      "        scale 0.01\n",
      "        prm end = If(Get(r_wp) < 0.1, 0, 5000);\n",
      "        iters = end;\n",
      "\n",
      "        volume 68.66751098632812 min 35.15776800256879 max 118.65746700866967\n",
      "        a @ 4.094967365264893 min 3.275973892211914 max 4.9139608383178714\n",
      "        b = Get(a);\n",
      "        c = Get(a);\n",
      "\n",
      "        space_group 195\n",
      "    "
     ]
    }
   ],
   "source": [
    "# Makes the template file for each structure\n",
    "make_template(prediction=prediction, name=name,wavelength=wavelength,crystal_system=crystal_system,bound=bound)"
   ]
  },
  {
   "cell_type": "code",
   "execution_count": null,
   "metadata": {},
   "outputs": [],
   "source": []
  }
 ],
 "metadata": {
  "kernelspec": {
   "display_name": "Python 3",
   "language": "python",
   "name": "python3"
  },
  "language_info": {
   "codemirror_mode": {
    "name": "ipython",
    "version": 3
   },
   "file_extension": ".py",
   "mimetype": "text/x-python",
   "name": "python",
   "nbconvert_exporter": "python",
   "pygments_lexer": "ipython3",
   "version": "3.8.3"
  }
 },
 "nbformat": 4,
 "nbformat_minor": 4
}
